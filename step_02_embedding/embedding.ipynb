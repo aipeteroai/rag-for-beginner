{
 "cells": [
  {
   "cell_type": "markdown",
   "metadata": {},
   "source": [
    "# 문서 임베딩 생성 및 벡터 데이터베이스 구축\n",
    "\n",
    "이 노트북에서는 문서 데이터를 임베딩하고 벡터 데이터베이스에 저장하는 과정을 다룹니다.\n",
    "주요 단계는 다음과 같습니다:\n",
    "\n",
    "1. JSONL 파일에서 문서 데이터 로드\n",
    "2. LangChain Document 객체로 변환\n",
    "3. OpenAI 임베딩 모델을 사용하여 벡터 생성\n",
    "4. ChromaDB에 벡터 저장\n",
    "5. 간단한 검색 테스트\n",
    "\n",
    "시작하기 전에 필요한 라이브러리를 설치해야 합니다:\n",
    "```\n",
    "pip install langchain langchain-openai chromadb\n",
    "```"
   ]
  },
  {
   "cell_type": "markdown",
   "metadata": {},
   "source": [
    "## 1. 필요한 라이브러리 임포트"
   ]
  },
  {
   "cell_type": "code",
   "execution_count": 1,
   "metadata": {},
   "outputs": [],
   "source": [
    "import os\n",
    "import json\n",
    "from typing import List, Dict, Any\n",
    "from langchain_community.vectorstores import Chroma\n",
    "from langchain_openai import OpenAIEmbeddings\n",
    "from langchain_core.documents import Document"
   ]
  },
  {
   "cell_type": "markdown",
   "metadata": {},
   "source": [
    "## 2. JSONL 파일 로드 함수\n",
    "\n",
    "JSONL(JSON Lines) 형식의 파일에서 문서 데이터를 로드하는 함수입니다."
   ]
  },
  {
   "cell_type": "code",
   "execution_count": 2,
   "metadata": {},
   "outputs": [],
   "source": [
    "def load_jsonl(file_path: str) -> List[Dict[str, Any]]:\n",
    "    \"\"\"\n",
    "    JSONL 파일을 읽어서 문서 리스트로 반환합니다.\n",
    "    \n",
    "    Args:\n",
    "        file_path: JSONL 파일 경로\n",
    "        \n",
    "    Returns:\n",
    "        문서 리스트\n",
    "    \"\"\"\n",
    "    documents = []\n",
    "    with open(file_path, 'r', encoding='utf-8') as f:\n",
    "        for line in f:\n",
    "            if line.strip():  # 빈 줄 무시\n",
    "                documents.append(json.loads(line))\n",
    "    return documents"
   ]
  },
  {
   "cell_type": "markdown",
   "metadata": {},
   "source": [
    "## 3. LangChain Document 객체로 변환\n",
    "\n",
    "일반 문서 데이터를 LangChain의 Document 객체로 변환하는 함수입니다."
   ]
  },
  {
   "cell_type": "code",
   "execution_count": 3,
   "metadata": {},
   "outputs": [],
   "source": [
    "def convert_to_langchain_documents(documents: List[Dict[str, Any]]) -> List[Document]:\n",
    "    \"\"\"\n",
    "    문서 리스트를 LangChain Document 객체 리스트로 변환합니다.\n",
    "    \n",
    "    Args:\n",
    "        documents: 문서 리스트\n",
    "        \n",
    "    Returns:\n",
    "        LangChain Document 객체 리스트\n",
    "    \"\"\"\n",
    "    langchain_docs = []\n",
    "    for doc in documents:\n",
    "        langchain_docs.append(\n",
    "            Document(\n",
    "                page_content=doc[\"content\"],\n",
    "                metadata=doc[\"metadata\"]\n",
    "            )\n",
    "        )\n",
    "    return langchain_docs"
   ]
  },
  {
   "cell_type": "markdown",
   "metadata": {},
   "source": [
    "## 4. OpenAI 임베딩 모델 생성\n",
    "\n",
    "OpenAI의 임베딩 모델을 초기화하는 함수입니다. 이 함수를 사용하기 위해서는 OpenAI API 키가 환경 변수에 설정되어 있어야 합니다."
   ]
  },
  {
   "cell_type": "code",
   "execution_count": 4,
   "metadata": {},
   "outputs": [],
   "source": [
    "def create_embeddings():\n",
    "    \"\"\"\n",
    "    OpenAI 임베딩 모델을 생성합니다.\n",
    "    \n",
    "    Returns:\n",
    "        OpenAI 임베딩 모델\n",
    "    \"\"\"\n",
    "    # OpenAI 임베딩 모델 사용\n",
    "    # 환경 변수 OPENAI_API_KEY가 설정되어 있어야 합니다\n",
    "    return OpenAIEmbeddings(model=\"text-embedding-ada-002\")"
   ]
  },
  {
   "cell_type": "markdown",
   "metadata": {},
   "source": [
    "## 5. OpenAI API 키 설정\n",
    "\n",
    "아래 셀에서 OpenAI API 키를 설정할 수 있습니다. 보안을 위해 실제 키는 노트북에 저장하지 마세요."
   ]
  },
  {
   "cell_type": "code",
   "execution_count": 5,
   "metadata": {},
   "outputs": [],
   "source": [
    "# OpenAI API 키 설정 (실제 키는 노트북에 저장하지 마세요)\n",
    "# os.environ[\"OPENAI_API_KEY\"] = \"your-api-key-here\"\n",
    "\n",
    "# 또는 .env 파일에서 로드할 수도 있습니다\n",
    "# from dotenv import load_dotenv\n",
    "# load_dotenv()"
   ]
  },
  {
   "cell_type": "markdown",
   "metadata": {},
   "source": [
    "## 6. 메인 실행 코드\n",
    "\n",
    "전체 프로세스를 실행하는 메인 코드입니다."
   ]
  },
  {
   "cell_type": "code",
   "execution_count": 6,
   "metadata": {},
   "outputs": [
    {
     "name": "stdout",
     "output_type": "stream",
     "text": [
      "JSONL 파일 로딩 중: ../step_01_data_set/split_docs.jsonl\n",
      "총 237개의 문서를 로딩했습니다.\n"
     ]
    }
   ],
   "source": [
    "# 입력 파일 경로\n",
    "input_file = \"../step_01_data_set/split_docs.jsonl\"\n",
    "\n",
    "# 출력 디렉토리 (ChromaDB 저장 위치)\n",
    "output_dir = \"../chroma_db\"\n",
    "\n",
    "# 디렉토리가 없으면 생성\n",
    "os.makedirs(output_dir, exist_ok=True)\n",
    "\n",
    "print(f\"JSONL 파일 로딩 중: {input_file}\")\n",
    "documents = load_jsonl(input_file)\n",
    "print(f\"총 {len(documents)}개의 문서를 로딩했습니다.\")"
   ]
  },
  {
   "cell_type": "code",
   "execution_count": 7,
   "metadata": {},
   "outputs": [
    {
     "name": "stdout",
     "output_type": "stream",
     "text": [
      "변환된 문서 수: 237\n",
      "\n",
      "첫 번째 문서 샘플:\n",
      "내용: # Community Projects  \n",
      "Welcome to the Roo Code community section! Here you'll find community projects that extend Roo Code's capabilities and a galler...\n",
      "메타데이터: {'path': 'community.md', 'name': 'community.md', 'header1': 'Community Projects'}\n"
     ]
    }
   ],
   "source": [
    "# LangChain Document 객체로 변환\n",
    "langchain_docs = convert_to_langchain_documents(documents)\n",
    "\n",
    "# 테스트를 위해 문서 수를 제한할 수 있습니다\n",
    "# langchain_docs = langchain_docs[:2]\n",
    "\n",
    "print(f\"변환된 문서 수: {len(langchain_docs)}\")\n",
    "\n",
    "# 첫 번째 문서 내용 확인\n",
    "if langchain_docs:\n",
    "    print(\"\\n첫 번째 문서 샘플:\")\n",
    "    print(f\"내용: {langchain_docs[0].page_content[:150]}...\")\n",
    "    print(f\"메타데이터: {langchain_docs[0].metadata}\")"
   ]
  },
  {
   "cell_type": "markdown",
   "metadata": {},
   "source": [
    "## 7. 임베딩 생성 및 ChromaDB에 저장\n",
    "\n",
    "문서를 임베딩하고 ChromaDB에 저장하는 과정입니다."
   ]
  },
  {
   "cell_type": "code",
   "execution_count": 8,
   "metadata": {},
   "outputs": [
    {
     "name": "stdout",
     "output_type": "stream",
     "text": [
      "ChromaDB에 문서 추가 중...\n",
      "임베딩 완료. 벡터 데이터베이스가 ../chroma_db에 저장되었습니다.\n"
     ]
    },
    {
     "name": "stderr",
     "output_type": "stream",
     "text": [
      "/tmp/ipykernel_2082637/3696109469.py:13: LangChainDeprecationWarning: Since Chroma 0.4.x the manual persistence method is no longer supported as docs are automatically persisted.\n",
      "  vectordb.persist()\n"
     ]
    }
   ],
   "source": [
    "# 임베딩 모델 생성\n",
    "embeddings = create_embeddings()\n",
    "\n",
    "print(\"ChromaDB에 문서 추가 중...\")\n",
    "# ChromaDB 벡터 저장소 생성 및 문서 추가\n",
    "vectordb = Chroma.from_documents(\n",
    "    documents=langchain_docs,\n",
    "    embedding=embeddings,\n",
    "    persist_directory=output_dir\n",
    ")\n",
    "\n",
    "# 벡터 저장소 저장\n",
    "vectordb.persist()\n",
    "print(f\"임베딩 완료. 벡터 데이터베이스가 {output_dir}에 저장되었습니다.\")"
   ]
  },
  {
   "cell_type": "markdown",
   "metadata": {},
   "source": [
    "## 8. 벡터 검색 테스트\n",
    "\n",
    "생성된 벡터 데이터베이스를 사용하여 간단한 검색 테스트를 수행합니다."
   ]
  },
  {
   "cell_type": "code",
   "execution_count": 9,
   "metadata": {},
   "outputs": [
    {
     "name": "stdout",
     "output_type": "stream",
     "text": [
      "\n",
      "테스트 쿼리: 'Roo Code란 무엇인가요?'\n",
      "\n",
      "검색 결과:\n",
      "\n",
      "결과 1:\n",
      "내용: # Roo Code Docs  \n",
      "Roo Code (formerly Roo Cline) is an AI-powered autonomous coding agent that lives in your editor. It helps you code faster and smart...\n",
      "메타데이터: {'header1': 'Roo Code Docs', 'name': 'index.md', 'path': 'index.md'}\n",
      "\n",
      "결과 2:\n",
      "내용: ## General  \n",
      "### What is Roo Code?  \n",
      "Roo Code is an AI-powered autonomous coding agent that lives in your editor.  \n",
      "### How does Roo Code work?  \n",
      "Roo ...\n",
      "메타데이터: {'header1': 'Frequently Asked Questions', 'header2': 'General', 'name': 'faq.md', 'path': 'faq.md'}\n"
     ]
    }
   ],
   "source": [
    "# 간단한 검색 테스트\n",
    "query = \"Roo Code란 무엇인가요?\"\n",
    "print(f\"\\n테스트 쿼리: '{query}'\")\n",
    "results = vectordb.similarity_search(query, k=2)\n",
    "\n",
    "print(\"\\n검색 결과:\")\n",
    "for i, doc in enumerate(results):\n",
    "    print(f\"\\n결과 {i+1}:\")\n",
    "    print(f\"내용: {doc.page_content[:150]}...\")\n",
    "    print(f\"메타데이터: {doc.metadata}\")"
   ]
  },
  {
   "cell_type": "markdown",
   "metadata": {},
   "source": [
    "## 9. 추가 실험: 다양한 쿼리 테스트\n",
    "\n",
    "다양한 쿼리로 벡터 검색을 테스트해볼 수 있습니다."
   ]
  },
  {
   "cell_type": "code",
   "execution_count": 10,
   "metadata": {},
   "outputs": [
    {
     "name": "stdout",
     "output_type": "stream",
     "text": [
      "\n",
      "\n",
      "쿼리: 'Roo Code의 주요 기능은 무엇인가요?'\n",
      "검색 결과:\n",
      "\n",
      "결과 1:\n",
      "내용: ## What Can Roo Code Do?  \n",
      "- 🚀 **Generate Code** from natural language descriptions\n",
      "- 🔧 **Refactor & Debug** existing code\n",
      "- 📝 **Write & Update** docu...\n",
      "메타데이터: {'header1': 'Roo Code Docs', 'header2': 'What Can Roo Code Do?', 'name': 'index.md', 'path': 'index.md'}\n",
      "\n",
      "\n",
      "쿼리: 'Roo Code를 어떻게 설치하나요?'\n",
      "검색 결과:\n",
      "\n",
      "결과 1:\n",
      "내용: # Installing Roo Code  \n",
      "Roo Code is a VS Code extension that brings AI-powered coding assistance to your editor.  There are three main ways to install...\n",
      "메타데이터: {'header1': 'Installing Roo Code', 'name': 'installing.md', 'path': 'getting-started/installing.md'}\n",
      "\n",
      "\n",
      "쿼리: 'Roo Code의 장점은 무엇인가요?'\n",
      "검색 결과:\n",
      "\n",
      "결과 1:\n",
      "내용: ## What Can Roo Code Do?  \n",
      "- 🚀 **Generate Code** from natural language descriptions\n",
      "- 🔧 **Refactor & Debug** existing code\n",
      "- 📝 **Write & Update** docu...\n",
      "메타데이터: {'header1': 'Roo Code Docs', 'header2': 'What Can Roo Code Do?', 'name': 'index.md', 'path': 'index.md'}\n"
     ]
    }
   ],
   "source": [
    "# 다양한 쿼리로 테스트\n",
    "test_queries = [\n",
    "    \"Roo Code의 주요 기능은 무엇인가요?\",\n",
    "    \"Roo Code를 어떻게 설치하나요?\",\n",
    "    \"Roo Code의 장점은 무엇인가요?\"\n",
    "]\n",
    "\n",
    "for query in test_queries:\n",
    "    print(f\"\\n\\n쿼리: '{query}'\")\n",
    "    results = vectordb.similarity_search(query, k=1)\n",
    "    \n",
    "    print(\"검색 결과:\")\n",
    "    for i, doc in enumerate(results):\n",
    "        print(f\"\\n결과 {i+1}:\")\n",
    "        print(f\"내용: {doc.page_content[:150]}...\")\n",
    "        print(f\"메타데이터: {doc.metadata}\")"
   ]
  }
 ],
 "metadata": {
  "kernelspec": {
   "display_name": "Python 3",
   "language": "python",
   "name": "python3"
  },
  "language_info": {
   "codemirror_mode": {
    "name": "ipython",
    "version": 3
   },
   "file_extension": ".py",
   "mimetype": "text/x-python",
   "name": "python",
   "nbconvert_exporter": "python",
   "pygments_lexer": "ipython3",
   "version": "3.8.10"
  }
 },
 "nbformat": 4,
 "nbformat_minor": 4
}
