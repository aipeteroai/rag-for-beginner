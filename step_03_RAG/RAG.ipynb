{
 "cells": [
  {
   "cell_type": "markdown",
   "metadata": {},
   "source": [
    "# RAG (Retrieval-Augmented Generation) 구현\n",
    "\n",
    "이 노트북은 LangChain을 사용하여 RAG 시스템을 구현하는 방법을 보여줍니다. 유사도 기반 검색과 BM25 검색을 앙상블하여 더 나은 검색 결과를 얻는 방법을 다룹니다."
   ]
  },
  {
   "cell_type": "code",
   "execution_count": 1,
   "metadata": {},
   "outputs": [],
   "source": [
    "import os\n",
    "import json\n",
    "from typing import List, Dict, Any\n",
    "from langchain_community.vectorstores import Chroma\n",
    "from langchain_openai import OpenAIEmbeddings, ChatOpenAI\n",
    "from langchain_core.documents import Document\n",
    "from langchain_community.retrievers import BM25Retriever\n",
    "from langchain.retrievers.ensemble import EnsembleRetriever\n",
    "from langchain.prompts import ChatPromptTemplate\n",
    "from langchain.chains import create_retrieval_chain\n",
    "from langchain.chains.combine_documents import create_stuff_documents_chain"
   ]
  },
  {
   "cell_type": "markdown",
   "metadata": {},
   "source": [
    "## 1. ChromaDB 로드 함수\n",
    "\n",
    "벡터 데이터베이스를 로드하는 함수입니다."
   ]
  },
  {
   "cell_type": "code",
   "execution_count": 2,
   "metadata": {},
   "outputs": [],
   "source": [
    "def load_chroma_db(persist_directory: str):\n",
    "    \"\"\"\n",
    "    ChromaDB를 로드합니다.\n",
    "    \n",
    "    Args:\n",
    "        persist_directory: ChromaDB가 저장된 디렉토리 경로\n",
    "        \n",
    "    Returns:\n",
    "        ChromaDB 인스턴스\n",
    "    \"\"\"\n",
    "    # 임베딩 모델 생성\n",
    "    embeddings = OpenAIEmbeddings(model=\"text-embedding-ada-002\")\n",
    "    \n",
    "    # ChromaDB 로드\n",
    "    vectordb = Chroma(\n",
    "        persist_directory=persist_directory,\n",
    "        embedding_function=embeddings\n",
    "    )\n",
    "    \n",
    "    return vectordb"
   ]
  },
  {
   "cell_type": "markdown",
   "metadata": {},
   "source": [
    "## 2. 리트리버 생성 함수들\n",
    "\n",
    "다양한 유형의 리트리버를 생성하는 함수들입니다."
   ]
  },
  {
   "cell_type": "code",
   "execution_count": 3,
   "metadata": {},
   "outputs": [],
   "source": [
    "def create_similarity_retriever(vectordb, k=4):\n",
    "    \"\"\"\n",
    "    유사도 기반 리트리버를 생성합니다.\n",
    "    \n",
    "    Args:\n",
    "        vectordb: 벡터 데이터베이스\n",
    "        k: 검색할 문서 수\n",
    "        \n",
    "    Returns:\n",
    "        유사도 기반 리트리버\n",
    "    \"\"\"\n",
    "    return vectordb.as_retriever(search_type=\"similarity\", search_kwargs={\"k\": k})\n",
    "\n",
    "def create_bm25_retriever(documents, k=4):\n",
    "    \"\"\"\n",
    "    BM25 리트리버를 생성합니다.\n",
    "    \n",
    "    Args:\n",
    "        documents: 문서 리스트\n",
    "        k: 검색할 문서 수\n",
    "        \n",
    "    Returns:\n",
    "        BM25 리트리버\n",
    "    \"\"\"\n",
    "    return BM25Retriever.from_documents(documents, k=k)\n",
    "\n",
    "def create_ensemble_retriever(retrievers, weights=None):\n",
    "    \"\"\"\n",
    "    앙상블 리트리버를 생성합니다.\n",
    "    \n",
    "    Args:\n",
    "        retrievers: 리트리버 리스트\n",
    "        weights: 각 리트리버의 가중치\n",
    "        \n",
    "    Returns:\n",
    "        앙상블 리트리버\n",
    "    \"\"\"\n",
    "    if weights is None:\n",
    "        weights = [1/len(retrievers)] * len(retrievers)\n",
    "    \n",
    "    return EnsembleRetriever(\n",
    "        retrievers=retrievers,\n",
    "        weights=weights\n",
    "    )"
   ]
  },
  {
   "cell_type": "markdown",
   "metadata": {},
   "source": [
    "## 3. RAG 체인 생성 함수\n",
    "\n",
    "리트리버와 언어 모델을 결합하여 RAG 체인을 생성하는 함수입니다."
   ]
  },
  {
   "cell_type": "code",
   "execution_count": 4,
   "metadata": {},
   "outputs": [],
   "source": [
    "def create_rag_chain(retriever, llm):\n",
    "    \"\"\"\n",
    "    RAG 체인을 생성합니다.\n",
    "    \n",
    "    Args:\n",
    "        retriever: 리트리버\n",
    "        llm: 언어 모델\n",
    "        \n",
    "    Returns:\n",
    "        RAG 체인\n",
    "    \"\"\"\n",
    "    # 프롬프트 템플릿 생성\n",
    "    prompt = ChatPromptTemplate.from_template(\"\"\"\n",
    "    다음 정보를 바탕으로 질문에 답변해주세요:\n",
    "    \n",
    "    <context>\n",
    "    {context}\n",
    "    </context>\n",
    "    \n",
    "    질문: {input}\n",
    "    \n",
    "    답변:\n",
    "    \"\"\")\n",
    "    \n",
    "    # 문서 결합 체인 생성\n",
    "    document_chain = create_stuff_documents_chain(llm, prompt)\n",
    "    \n",
    "    # 검색 체인 생성\n",
    "    retrieval_chain = create_retrieval_chain(retriever, document_chain)\n",
    "    \n",
    "    return retrieval_chain"
   ]
  },
  {
   "cell_type": "markdown",
   "metadata": {},
   "source": [
    "## 4. 메인 실행 코드\n",
    "\n",
    "RAG 시스템을 실행하고 테스트하는 코드입니다."
   ]
  },
  {
   "cell_type": "code",
   "execution_count": 5,
   "metadata": {},
   "outputs": [
    {
     "name": "stdout",
     "output_type": "stream",
     "text": [
      "ChromaDB 로드 중: ../chroma_db\n"
     ]
    },
    {
     "name": "stderr",
     "output_type": "stream",
     "text": [
      "/tmp/ipykernel_2113820/2708055516.py:15: LangChainDeprecationWarning: The class `Chroma` was deprecated in LangChain 0.2.9 and will be removed in 1.0. An updated version of the class exists in the :class:`~langchain-chroma package and should be used instead. To use it run `pip install -U :class:`~langchain-chroma` and import as `from :class:`~langchain_chroma import Chroma``.\n",
      "  vectordb = Chroma(\n"
     ]
    },
    {
     "name": "stdout",
     "output_type": "stream",
     "text": [
      "총 237개의 문서를 로드했습니다.\n"
     ]
    }
   ],
   "source": [
    "# ChromaDB 경로\n",
    "chroma_dir = \"../chroma_db\"\n",
    "\n",
    "print(f\"ChromaDB 로드 중: {chroma_dir}\")\n",
    "vectordb = load_chroma_db(chroma_dir)\n",
    "\n",
    "# 모든 문서 가져오기 (BM25 리트리버용)\n",
    "all_documents = vectordb.get()\n",
    "documents = [Document(page_content=text, metadata=metadata) \n",
    "            for text, metadata in zip(all_documents['documents'], all_documents['metadatas'])]\n",
    "\n",
    "print(f\"총 {len(documents)}개의 문서를 로드했습니다.\")"
   ]
  },
  {
   "cell_type": "code",
   "execution_count": 6,
   "metadata": {},
   "outputs": [],
   "source": [
    "# 리트리버 생성\n",
    "similarity_retriever = create_similarity_retriever(vectordb, k=3)\n",
    "bm25_retriever = create_bm25_retriever(documents, k=3)\n",
    "\n",
    "# 앙상블 리트리버 생성 (유사도 0.7, BM25 0.3 가중치)\n",
    "ensemble_retriever = create_ensemble_retriever(\n",
    "    retrievers=[similarity_retriever, bm25_retriever],\n",
    "    weights=[0.7, 0.3]\n",
    ")\n",
    "\n",
    "# 언어 모델 생성\n",
    "llm = ChatOpenAI(model=\"gpt-4o-mini\")\n",
    "\n",
    "# RAG 체인 생성\n",
    "rag_chain = create_rag_chain(ensemble_retriever, llm)"
   ]
  },
  {
   "cell_type": "markdown",
   "metadata": {},
   "source": [
    "## 5. 테스트 쿼리 실행\n",
    "\n",
    "각 리트리버별 검색 결과를 확인하고 RAG 체인의 응답을 확인합니다."
   ]
  },
  {
   "cell_type": "code",
   "execution_count": 7,
   "metadata": {},
   "outputs": [
    {
     "name": "stdout",
     "output_type": "stream",
     "text": [
      "\n",
      "테스트 쿼리: 'Roo Code란 무엇인가요?'\n",
      "\n",
      "유사도 검색 결과:\n"
     ]
    },
    {
     "name": "stderr",
     "output_type": "stream",
     "text": [
      "/tmp/ipykernel_2113820/354196260.py:7: LangChainDeprecationWarning: The method `BaseRetriever.get_relevant_documents` was deprecated in langchain-core 0.1.46 and will be removed in 1.0. Use :meth:`~invoke` instead.\n",
      "  similarity_results = similarity_retriever.get_relevant_documents(query)\n"
     ]
    },
    {
     "name": "stdout",
     "output_type": "stream",
     "text": [
      "\n",
      "결과 1:\n",
      "내용: # Roo Code Docs  \n",
      "Roo Code (formerly Roo Cline) is an AI-powered autonomous coding agent that lives in your editor. It helps you code faster and smart...\n",
      "메타데이터: {'header1': 'Roo Code Docs', 'name': 'index.md', 'path': 'index.md'}\n",
      "\n",
      "결과 2:\n",
      "내용: ## General  \n",
      "### What is Roo Code?  \n",
      "Roo Code is an AI-powered autonomous coding agent that lives in your editor.  \n",
      "### How does Roo Code work?  \n",
      "Roo ...\n",
      "메타데이터: {'header1': 'Frequently Asked Questions', 'header2': 'General', 'name': 'faq.md', 'path': 'faq.md'}\n",
      "\n",
      "결과 3:\n",
      "내용: ## What Can Roo Code Do?  \n",
      "- 🚀 **Generate Code** from natural language descriptions\n",
      "- 🔧 **Refactor & Debug** existing code\n",
      "- 📝 **Write & Update** docu...\n",
      "메타데이터: {'header1': 'Roo Code Docs', 'header2': 'What Can Roo Code Do?', 'name': 'index.md', 'path': 'index.md'}\n",
      "\n",
      "BM25 검색 결과:\n",
      "\n",
      "결과 1:\n",
      "내용: ## Step 1: Open the Roo Code Panel  \n",
      "If the Roo Code panel isn't already visible, click the Roo Code icon (<Codicon name=\"rocket\" />) in the VS Code A...\n",
      "메타데이터: {'header1': 'Starting Your First Task with Roo Code', 'header2': 'Step 1: Open the Roo Code Panel', 'name': 'your-first-task.md', 'path': 'getting-started/your-first-task.md'}\n",
      "\n",
      "결과 2:\n",
      "내용: ## General  \n",
      "### What is Roo Code?  \n",
      "Roo Code is an AI-powered autonomous coding agent that lives in your editor.  \n",
      "### How does Roo Code work?  \n",
      "Roo ...\n",
      "메타데이터: {'header1': 'Frequently Asked Questions', 'header2': 'General', 'name': 'faq.md', 'path': 'faq.md'}\n",
      "\n",
      "결과 3:\n",
      "내용: # Roo Code Docs  \n",
      "Roo Code (formerly Roo Cline) is an AI-powered autonomous coding agent that lives in your editor. It helps you code faster and smart...\n",
      "메타데이터: {'header1': 'Roo Code Docs', 'name': 'index.md', 'path': 'index.md'}\n",
      "\n",
      "앙상블 검색 결과:\n",
      "\n",
      "결과 1:\n",
      "내용: # Roo Code Docs  \n",
      "Roo Code (formerly Roo Cline) is an AI-powered autonomous coding agent that lives in your editor. It helps you code faster and smart...\n",
      "메타데이터: {'header1': 'Roo Code Docs', 'name': 'index.md', 'path': 'index.md'}\n",
      "\n",
      "결과 2:\n",
      "내용: ## General  \n",
      "### What is Roo Code?  \n",
      "Roo Code is an AI-powered autonomous coding agent that lives in your editor.  \n",
      "### How does Roo Code work?  \n",
      "Roo ...\n",
      "메타데이터: {'header1': 'Frequently Asked Questions', 'header2': 'General', 'name': 'faq.md', 'path': 'faq.md'}\n",
      "\n",
      "결과 3:\n",
      "내용: ## What Can Roo Code Do?  \n",
      "- 🚀 **Generate Code** from natural language descriptions\n",
      "- 🔧 **Refactor & Debug** existing code\n",
      "- 📝 **Write & Update** docu...\n",
      "메타데이터: {'header1': 'Roo Code Docs', 'header2': 'What Can Roo Code Do?', 'name': 'index.md', 'path': 'index.md'}\n",
      "\n",
      "결과 4:\n",
      "내용: ## Step 1: Open the Roo Code Panel  \n",
      "If the Roo Code panel isn't already visible, click the Roo Code icon (<Codicon name=\"rocket\" />) in the VS Code A...\n",
      "메타데이터: {'header1': 'Starting Your First Task with Roo Code', 'header2': 'Step 1: Open the Roo Code Panel', 'name': 'your-first-task.md', 'path': 'getting-started/your-first-task.md'}\n"
     ]
    }
   ],
   "source": [
    "# 테스트 쿼리\n",
    "query = \"Roo Code란 무엇인가요?\"\n",
    "print(f\"\\n테스트 쿼리: '{query}'\")\n",
    "\n",
    "# 각 리트리버별 검색 결과 확인\n",
    "print(\"\\n유사도 검색 결과:\")\n",
    "similarity_results = similarity_retriever.get_relevant_documents(query)\n",
    "for i, doc in enumerate(similarity_results):\n",
    "    print(f\"\\n결과 {i+1}:\")\n",
    "    print(f\"내용: {doc.page_content[:150]}...\")\n",
    "    print(f\"메타데이터: {doc.metadata}\")\n",
    "\n",
    "print(\"\\nBM25 검색 결과:\")\n",
    "bm25_results = bm25_retriever.get_relevant_documents(query)\n",
    "for i, doc in enumerate(bm25_results):\n",
    "    print(f\"\\n결과 {i+1}:\")\n",
    "    print(f\"내용: {doc.page_content[:150]}...\")\n",
    "    print(f\"메타데이터: {doc.metadata}\")\n",
    "\n",
    "print(\"\\n앙상블 검색 결과:\")\n",
    "ensemble_results = ensemble_retriever.get_relevant_documents(query)\n",
    "for i, doc in enumerate(ensemble_results):\n",
    "    print(f\"\\n결과 {i+1}:\")\n",
    "    print(f\"내용: {doc.page_content[:150]}...\")\n",
    "    print(f\"메타데이터: {doc.metadata}\")"
   ]
  },
  {
   "cell_type": "code",
   "execution_count": 8,
   "metadata": {},
   "outputs": [
    {
     "name": "stdout",
     "output_type": "stream",
     "text": [
      "\n",
      "RAG 응답:\n",
      "Roo Code는 AI 기반의 자율 코딩 에이전트로, 코드 편집기 내에서 작동합니다. 사용자가 새로운 프로젝트를 시작하거나 기존 코드를 유지 관리하거나 새로운 기술을 배우는 데 도움을 주며, 코드 작성 및 작업을 더 빠르고 스마트하게 수행할 수 있도록 지원합니다.\n"
     ]
    }
   ],
   "source": [
    "# RAG 체인 실행\n",
    "print(\"\\nRAG 응답:\")\n",
    "response = rag_chain.invoke({\"input\": query})\n",
    "print(response[\"answer\"])"
   ]
  },
  {
   "cell_type": "markdown",
   "metadata": {},
   "source": [
    "## 6. 대화형 모드\n",
    "\n",
    "사용자의 질문에 대해 RAG 시스템이 응답하는 대화형 모드입니다."
   ]
  },
  {
   "cell_type": "code",
   "execution_count": 9,
   "metadata": {},
   "outputs": [
    {
     "name": "stdout",
     "output_type": "stream",
     "text": [
      "\n",
      "응답:\n",
      "MCP(모델 컨텍스트 프로토콜)는 Roo Code의 기능을 확장하고 외부 도구 및 서비스에 연결할 수 있도록 하는 표준입니다. 이 프로토콜을 통해 사용자는 다양한 이점을 누릴 수 있습니다:\n",
      "\n",
      "1. **기능 확장**: Roo Code의 핵심 확장에 수정을 가하지 않고도 새로운 기능을 추가할 수 있습니다.\n",
      "2. **외부 데이터 접근**: 데이터베이스, API 또는 기타 서비스에 연결할 수 있습니다.\n",
      "3. **커스텀 통합**: 특정 워크플로우에 맞는 맞춤형 도구를 만들 수 있습니다.\n",
      "4. **커뮤니티 기여**: Roo Code 커뮤니티에서 개발한 도구를 공유하고 사용할 수 있습니다.\n",
      "\n",
      "MCP 서버와 연결하면 Roo Code는 해당 서버의 도구와 리소스를 사용하여 다양한 작업을 수행할 수 있습니다. 설정에서 MCP 서버의 사용을 제어할 수 있는 두 가지 옵션이 있으며, 이 옵션을 통해 보안과 토큰 사용량을 관리할 수 있습니다. 사용할 필요가 없으면 MCP 서버의 사용을 완전히 비활성화하거나, 새 MCP 서버 생성 기능을 비활성화하여 보안을 강화할 수 있습니다. \n",
      "\n",
      "MCP 도구와 리소스를 사용하기 위해서는 서버 이름과 도구명 또는 리소스 URI를 제공해야 하며, Roo Code가 필요한 매개변수에 대한 입력을 요구합니다. \n",
      "\n",
      "사용자가 고유의 MCP 서버를 생성할 수도 있으며, 이를 통해 커스텀 기능을 추가할 수 있지만, 프로그래밍 지식이 필요합니다.\n",
      "\n",
      "자세한 내용은 MCP 문서에서 확인하실 수 있습니다.\n"
     ]
    }
   ],
   "source": [
    "# 대화형 모드 (Jupyter에서는 이 셀을 여러 번 실행하여 질문할 수 있습니다)\n",
    "user_query = input(\"질문을 입력하세요: \")\n",
    "if user_query.lower() != 'q':\n",
    "    response = rag_chain.invoke({\"input\": user_query})\n",
    "    print(\"\\n응답:\")\n",
    "    print(response[\"answer\"])"
   ]
  }
 ],
 "metadata": {
  "kernelspec": {
   "display_name": "Python 3",
   "language": "python",
   "name": "python3"
  },
  "language_info": {
   "codemirror_mode": {
    "name": "ipython",
    "version": 3
   },
   "file_extension": ".py",
   "mimetype": "text/x-python",
   "name": "python",
   "nbconvert_exporter": "python",
   "pygments_lexer": "ipython3",
   "version": "3.10.12"
  }
 },
 "nbformat": 4,
 "nbformat_minor": 4
}
